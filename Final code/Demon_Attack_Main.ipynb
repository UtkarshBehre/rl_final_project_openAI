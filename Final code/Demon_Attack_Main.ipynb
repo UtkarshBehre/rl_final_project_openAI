{
 "cells": [
  {
   "cell_type": "markdown",
   "metadata": {},
   "source": [
    "# Run the DemonAttack-v0 environment and agent files"
   ]
  },
  {
   "cell_type": "code",
   "execution_count": 1,
   "metadata": {},
   "outputs": [
    {
     "name": "stderr",
     "output_type": "stream",
     "text": [
      "Using TensorFlow backend.\n"
     ]
    }
   ],
   "source": [
    "%run environment/img_environment.py\n",
    "%run agents/A2C_agent_2c.py\n",
    "%run agents/A2C_agent_3c.py\n",
    "%run agents/A2C_agent_5c.py\n",
    "%run agents/dqn_agent_2c.py\n",
    "%run agents/dqn_agent_3c.py\n",
    "%run agents/dqn_agent_5c.py\n",
    "%run agents/ddqn_agent_2c.py\n",
    "%run agents/ddqn_agent_3c.py\n",
    "%run agents/ddqn_agent_5c.py\n",
    "%run agents/reinforce_agent_2c.py\n",
    "%run agents/reinforce_agent_3c.py\n",
    "%run agents/reinforce_agent_5c.py"
   ]
  },
  {
   "cell_type": "code",
   "execution_count": 2,
   "metadata": {},
   "outputs": [],
   "source": [
    "import matplotlib.pyplot as plt\n",
    "# defining a graph plotting helper method\n",
    "def plot_graph(xlab, ylab, values, title, takeMean):\n",
    "    plt.xlabel(xlab)\n",
    "    plt.ylabel(ylab)\n",
    "    plt.title(title)\n",
    "    plt.grid(True)\n",
    "    # plots the mean of the next 10 rewards at every episode\n",
    "    if takeMean:\n",
    "        window_range = 10\n",
    "        plt.plot([np.mean(values[ind-window_range: ind]) for ind in range(window_range, len(values))])\n",
    "    else:\n",
    "        plt.plot(values)\n",
    "\n",
    "env_name = \"DemonAttack-v0\"\n",
    "test_runs = 5"
   ]
  },
  {
   "cell_type": "markdown",
   "metadata": {},
   "source": [
    "### Run on DQN Agents"
   ]
  },
  {
   "cell_type": "code",
   "execution_count": 3,
   "metadata": {},
   "outputs": [],
   "source": [
    "total_episodes = 10000\n",
    "epsilon_decay = 0.9997\n",
    "render_while_training = False\n",
    "render_while_testing = False"
   ]
  },
  {
   "cell_type": "code",
   "execution_count": 4,
   "metadata": {},
   "outputs": [
    {
     "name": "stderr",
     "output_type": "stream",
     "text": [
      "/Users/utkarsh/opt/anaconda3/lib/python3.7/site-packages/gym/logger.py:30: UserWarning: \u001b[33mWARN: Box bound precision lowered by casting to float32\u001b[0m\n",
      "  warnings.warn(colorize('%s: %s'%('WARN', msg % args), 'yellow'))\n"
     ]
    },
    {
     "name": "stdout",
     "output_type": "stream",
     "text": [
      "===============================\n",
      "The agent DQN_Agent_2c is initiallized with below parameter values.\n",
      "memory buffer limit:10000\n",
      "batch size:32\n",
      "learning_rate:0.0001\n",
      "gamma:0.99\n",
      "\n",
      "Below is the neural network used:\n",
      "Model: \"sequential_1\"\n",
      "_________________________________________________________________\n",
      "Layer (type)                 Output Shape              Param #   \n",
      "=================================================================\n",
      "conv2d_1 (Conv2D)            (None, 21, 21, 16)        4112      \n",
      "_________________________________________________________________\n",
      "conv2d_2 (Conv2D)            (None, 11, 11, 32)        8224      \n",
      "_________________________________________________________________\n",
      "flatten_1 (Flatten)          (None, 3872)              0         \n",
      "_________________________________________________________________\n",
      "dense_1 (Dense)              (None, 256)               991488    \n",
      "_________________________________________________________________\n",
      "dense_2 (Dense)              (None, 6)                 1542      \n",
      "=================================================================\n",
      "Total params: 1,005,366\n",
      "Trainable params: 1,005,366\n",
      "Non-trainable params: 0\n",
      "_________________________________________________________________\n",
      "None\n",
      "===============================\n",
      "===============================\n",
      "The agent DQN_Agent_3c is initiallized with below parameter values.\n",
      "memory buffer limit:10000\n",
      "batch size:32\n",
      "learning_rate:0.0001\n",
      "gamma:0.99\n",
      "\n",
      "Below is the neural network used:\n",
      "Model: \"sequential_3\"\n",
      "_________________________________________________________________\n",
      "Layer (type)                 Output Shape              Param #   \n",
      "=================================================================\n",
      "conv2d_5 (Conv2D)            (None, 21, 21, 32)        8224      \n",
      "_________________________________________________________________\n",
      "conv2d_6 (Conv2D)            (None, 11, 11, 64)        32832     \n",
      "_________________________________________________________________\n",
      "conv2d_7 (Conv2D)            (None, 11, 11, 64)        36928     \n",
      "_________________________________________________________________\n",
      "flatten_3 (Flatten)          (None, 7744)              0         \n",
      "_________________________________________________________________\n",
      "dense_5 (Dense)              (None, 512)               3965440   \n",
      "_________________________________________________________________\n",
      "dense_6 (Dense)              (None, 6)                 3078      \n",
      "=================================================================\n",
      "Total params: 4,046,502\n",
      "Trainable params: 4,046,502\n",
      "Non-trainable params: 0\n",
      "_________________________________________________________________\n",
      "None\n",
      "===============================\n",
      "===============================\n",
      "The agent DQN_Agent_5c is initiallized with below parameter values.\n",
      "memory buffer limit:10000\n",
      "batch size:32\n",
      "learning_rate:0.0001\n",
      "gamma:0.99\n",
      "\n",
      "Below is the neural network used:\n",
      "Model: \"sequential_5\"\n",
      "_________________________________________________________________\n",
      "Layer (type)                 Output Shape              Param #   \n",
      "=================================================================\n",
      "conv2d_11 (Conv2D)           (None, 21, 21, 16)        4112      \n",
      "_________________________________________________________________\n",
      "conv2d_12 (Conv2D)           (None, 11, 11, 32)        18464     \n",
      "_________________________________________________________________\n",
      "conv2d_13 (Conv2D)           (None, 11, 11, 32)        16416     \n",
      "_________________________________________________________________\n",
      "conv2d_14 (Conv2D)           (None, 6, 6, 64)          32832     \n",
      "_________________________________________________________________\n",
      "conv2d_15 (Conv2D)           (None, 6, 6, 64)          36928     \n",
      "_________________________________________________________________\n",
      "flatten_5 (Flatten)          (None, 2304)              0         \n",
      "_________________________________________________________________\n",
      "dense_9 (Dense)              (None, 512)               1180160   \n",
      "_________________________________________________________________\n",
      "dense_10 (Dense)             (None, 6)                 3078      \n",
      "=================================================================\n",
      "Total params: 1,291,990\n",
      "Trainable params: 1,291,990\n",
      "Non-trainable params: 0\n",
      "_________________________________________________________________\n",
      "None\n",
      "===============================\n"
     ]
    }
   ],
   "source": [
    "env = Environment(env_name=env_name)\n",
    "dqn_agent_2c = DQNAgent_2c(env)\n",
    "dqn_agent_3c = DQNAgent_3c(env)\n",
    "dqn_agent_5c = DQNAgent_5c(env)"
   ]
  },
  {
   "cell_type": "code",
   "execution_count": 5,
   "metadata": {},
   "outputs": [
    {
     "name": "stdout",
     "output_type": "stream",
     "text": [
      "Now training DQN_Agent_2c\n",
      "Episode: 10000/10000, Episode Reward: 275, Epsilon: 0.04991, Time Spent: 18 hours 0 minutess\n",
      "Training of DQN_Agent_2c completed.\n",
      "Now training DQN_Agent_3c\n",
      "Episode: 1211/10000, Episode Reward: 65, Epsilon: 0.69743, Time Spent: 1 hours 26 minutess\r"
     ]
    },
    {
     "name": "stderr",
     "output_type": "stream",
     "text": [
      "ERROR:root:Internal Python error in the inspect module.\n",
      "Below is the traceback from this internal error.\n",
      "\n"
     ]
    },
    {
     "name": "stdout",
     "output_type": "stream",
     "text": [
      "Traceback (most recent call last):\n",
      "  File \"/Users/utkarsh/opt/anaconda3/lib/python3.7/site-packages/IPython/core/interactiveshell.py\", line 3326, in run_code\n",
      "    exec(code_obj, self.user_global_ns, self.user_ns)\n",
      "  File \"<ipython-input-5-53d0f5a49732>\", line 2, in <module>\n",
      "    dqn_agent_3c.train_agent(total_episodes=total_episodes, epsilon_decay = epsilon_decay, render = render_while_training)\n",
      "  File \"/Users/utkarsh/Spring2020/CSE 510 Reinforcement Learning/rl_final_project_openAI/Final code/agents/dqn_agent_3c.py\", line 164, in train_agent\n",
      "    self.memorize(state, action, reward, done, next_state)\n",
      "  File \"/Users/utkarsh/Spring2020/CSE 510 Reinforcement Learning/rl_final_project_openAI/Final code/agents/dqn_agent_3c.py\", line 101, in memorize\n",
      "    self.memory[index,:] = transition\n",
      "KeyboardInterrupt\n",
      "\n",
      "During handling of the above exception, another exception occurred:\n",
      "\n",
      "Traceback (most recent call last):\n",
      "  File \"/Users/utkarsh/opt/anaconda3/lib/python3.7/site-packages/IPython/core/interactiveshell.py\", line 2040, in showtraceback\n",
      "    stb = value._render_traceback_()\n",
      "AttributeError: 'KeyboardInterrupt' object has no attribute '_render_traceback_'\n",
      "\n",
      "During handling of the above exception, another exception occurred:\n",
      "\n",
      "Traceback (most recent call last):\n",
      "  File \"/Users/utkarsh/opt/anaconda3/lib/python3.7/site-packages/IPython/core/ultratb.py\", line 1101, in get_records\n",
      "    return _fixed_getinnerframes(etb, number_of_lines_of_context, tb_offset)\n",
      "  File \"/Users/utkarsh/opt/anaconda3/lib/python3.7/site-packages/IPython/core/ultratb.py\", line 319, in wrapped\n",
      "    return f(*args, **kwargs)\n",
      "  File \"/Users/utkarsh/opt/anaconda3/lib/python3.7/site-packages/IPython/core/ultratb.py\", line 353, in _fixed_getinnerframes\n",
      "    records = fix_frame_records_filenames(inspect.getinnerframes(etb, context))\n",
      "  File \"/Users/utkarsh/opt/anaconda3/lib/python3.7/inspect.py\", line 1502, in getinnerframes\n",
      "    frameinfo = (tb.tb_frame,) + getframeinfo(tb, context)\n",
      "  File \"/Users/utkarsh/opt/anaconda3/lib/python3.7/inspect.py\", line 1460, in getframeinfo\n",
      "    filename = getsourcefile(frame) or getfile(frame)\n",
      "  File \"/Users/utkarsh/opt/anaconda3/lib/python3.7/inspect.py\", line 696, in getsourcefile\n",
      "    if getattr(getmodule(object, filename), '__loader__', None) is not None:\n",
      "  File \"/Users/utkarsh/opt/anaconda3/lib/python3.7/inspect.py\", line 742, in getmodule\n",
      "    os.path.realpath(f)] = module.__name__\n",
      "AttributeError: module has no attribute '__name__'\n"
     ]
    },
    {
     "ename": "KeyboardInterrupt",
     "evalue": "",
     "output_type": "error",
     "traceback": [
      "\u001b[0;31m---------------------------------------------------------------------------\u001b[0m"
     ]
    }
   ],
   "source": [
    "dqn_agent_2c.train_agent(total_episodes=total_episodes, epsilon_decay = epsilon_decay, render = render_while_training)\n",
    "dqn_agent_3c.train_agent(total_episodes=total_episodes, epsilon_decay = epsilon_decay, render = render_while_training)\n",
    "dqn_agent_5c.train_agent(total_episodes=total_episodes, epsilon_decay = epsilon_decay, render = render_while_training)"
   ]
  },
  {
   "cell_type": "code",
   "execution_count": 6,
   "metadata": {},
   "outputs": [
    {
     "name": "stdout",
     "output_type": "stream",
     "text": [
      "Agent: DQN_Agent_2c \t Run: 5/5 | Score: 655\n",
      "DQN_Agent_2c Agent's High Score in 5 runs: 655 \n"
     ]
    }
   ],
   "source": [
    "dqn_agent_2c.test_agent(runs = test_runs, render = render_while_testing)\n",
    "#dqn_agent_3c.test_agent(runs = test_runs, render = render_while_testing)\n",
    "#dqn_agent_5c.test_agent(runs = test_runs, render = render_while_testing)"
   ]
  },
  {
   "cell_type": "code",
   "execution_count": null,
   "metadata": {},
   "outputs": [],
   "source": [
    "plot_graph(\"episodes\", \"epsilon\", dqn_agent_2c.hist_epsilon_values, \"Epsilon Values vs Episodes\", takeMean=False)\n"
   ]
  },
  {
   "cell_type": "code",
   "execution_count": 7,
   "metadata": {},
   "outputs": [
    {
     "data": {
      "image/png": "[encoded data removed]",
      "text/plain": [
       "<Figure size 432x288 with 1 Axes>"
      ]
     },
     "metadata": {
      "needs_background": "light"
     },
     "output_type": "display_data"
    }
   ],
   "source": [
    "plot_graph(\"episodes\", \"rewards\", dqn_agent_2c.hist_rewards, dqn_agent_2c.agent_name, takeMean=True)\n"
   ]
  },
  {
   "cell_type": "code",
   "execution_count": null,
   "metadata": {},
   "outputs": [],
   "source": [
    "plot_graph(\"episodes\", \"rewards\", dqn_agent_3c.hist_rewards, dqn_agent_3c.agent_name, takeMean=True)\n"
   ]
  },
  {
   "cell_type": "code",
   "execution_count": null,
   "metadata": {},
   "outputs": [],
   "source": [
    "plot_graph(\"episodes\", \"rewards\", dqn_agent_5c.hist_rewards, dqn_agent_5c.agent_name, takeMean=True)\n"
   ]
  },
  {
   "cell_type": "markdown",
   "metadata": {},
   "source": [
    "### Run on DDQN Agents"
   ]
  },
  {
   "cell_type": "code",
   "execution_count": null,
   "metadata": {},
   "outputs": [],
   "source": [
    "total_episodes = 10000\n",
    "epsilon_decay = 0.9997\n",
    "render_while_training = False\n",
    "render_while_testing = False"
   ]
  },
  {
   "cell_type": "code",
   "execution_count": null,
   "metadata": {},
   "outputs": [],
   "source": [
    "env = Environment(env_name=env_name)\n",
    "ddqn_agent_2c = DDQNAgent_2c(env)\n",
    "ddqn_agent_3c = DDQNAgent_3c(env)\n",
    "ddqn_agent_5c = DDQNAgent_5c(env)"
   ]
  },
  {
   "cell_type": "code",
   "execution_count": null,
   "metadata": {},
   "outputs": [],
   "source": [
    "ddqn_agent_2c.train_agent(total_episodes=total_episodes, epsilon_decay = epsilon_decay, render = render_while_training)\n",
    "ddqn_agent_3c.train_agent(total_episodes=total_episodes, epsilon_decay = epsilon_decay, render = render_while_training)\n",
    "ddqn_agent_5c.train_agent(total_episodes=total_episodes, epsilon_decay = epsilon_decay, render = render_while_training)"
   ]
  },
  {
   "cell_type": "code",
   "execution_count": null,
   "metadata": {},
   "outputs": [],
   "source": [
    "ddqn_agent_2c.test_agent(runs = test_runs, render = render_while_testing)\n",
    "ddqn_agent_3c.test_agent(runs = test_runs, render = render_while_testing)\n",
    "ddqn_agent_5c.test_agent(runs = test_runs, render = render_while_testing)"
   ]
  },
  {
   "cell_type": "code",
   "execution_count": null,
   "metadata": {},
   "outputs": [],
   "source": [
    "plot_graph(\"episodes\", \"epsilon\", ddqn_agent_2c.hist_epsilon_values, \"Epsilon Values vs Episodes\", takeMean=False)\n"
   ]
  },
  {
   "cell_type": "code",
   "execution_count": null,
   "metadata": {},
   "outputs": [],
   "source": [
    "plot_graph(\"episodes\", \"rewards\", ddqn_agent_2c.hist_rewards, ddqn_agent_2c.agent_name, takeMean=True)\n"
   ]
  },
  {
   "cell_type": "code",
   "execution_count": null,
   "metadata": {},
   "outputs": [],
   "source": [
    "plot_graph(\"episodes\", \"rewards\", ddqn_agent_3c.hist_rewards, ddqn_agent_3c.agent_name, takeMean=True)\n"
   ]
  },
  {
   "cell_type": "code",
   "execution_count": null,
   "metadata": {},
   "outputs": [],
   "source": [
    "plot_graph(\"episodes\", \"rewards\", ddqn_agent_5c.hist_rewards, ddqn_agent_5c.agent_name, takeMean=True)\n"
   ]
  },
  {
   "cell_type": "code",
   "execution_count": null,
   "metadata": {},
   "outputs": [],
   "source": []
  },
  {
   "cell_type": "markdown",
   "metadata": {},
   "source": [
    "### Run on A2C Agents"
   ]
  },
  {
   "cell_type": "code",
   "execution_count": 66,
   "metadata": {},
   "outputs": [],
   "source": [
    "total_episodes = 10000\n",
    "score_limit = 230"
   ]
  },
  {
   "cell_type": "code",
   "execution_count": 67,
   "metadata": {},
   "outputs": [
    {
     "name": "stderr",
     "output_type": "stream",
     "text": [
      "/Users/utkarsh/opt/anaconda3/lib/python3.7/site-packages/gym/logger.py:30: UserWarning: \u001b[33mWARN: Box bound precision lowered by casting to float32\u001b[0m\n",
      "  warnings.warn(colorize('%s: %s'%('WARN', msg % args), 'yellow'))\n"
     ]
    }
   ],
   "source": [
    "env = Environment(env_name=env_name)\n",
    "a2c_agent_2c = A2CAgent_2c(env_name, env, score_limit)\n",
    "a2c_agent_3c = A2CAgent_3c(env_name, env, score_limit)\n",
    "a2c_agent_5c = A2CAgent_5c(env_name, env, score_limit)"
   ]
  },
  {
   "cell_type": "code",
   "execution_count": 68,
   "metadata": {},
   "outputs": [
    {
     "name": "stdout",
     "output_type": "stream",
     "text": [
      "A2CAgent_2c Agent Training ended at episode 1 for SpaceInvaders-v4 environment as agent performed best in last 10 runs\n",
      "A2CAgent_3c Agent Training ended at episode 1 for SpaceInvaders-v4 environment as agent performed best in last 10 runs\n",
      "A2CAgent_5c Agent Training ended at episode 1 for SpaceInvaders-v4 environment as agent performed best in last 10 runs\n"
     ]
    }
   ],
   "source": [
    "a2c_agent_2c.train_agent(total_episodes)\n",
    "a2c_agent_3c.train_agent(total_episodes)\n",
    "a2c_agent_5c.train_agent(total_episodes)"
   ]
  },
  {
   "cell_type": "code",
   "execution_count": 69,
   "metadata": {},
   "outputs": [
    {
     "name": "stdout",
     "output_type": "stream",
     "text": [
      "Agent: A2CAgent_2c \t Environment: SpaceInvaders-v4 \t Run: 5/5 | Score: -5\n",
      "A2CAgent_2c Agent's High Score on SpaceInvaders-v4 Environment in 5 runs: 0 \n",
      "Agent: A2CAgent_3c \t Environment: SpaceInvaders-v4 \t Run: 5/5 | Score: 265\n",
      "A2CAgent_3c Agent's High Score on SpaceInvaders-v4 Environment in 5 runs: 265 \n",
      "Agent: A2CAgent_5c \t Environment: SpaceInvaders-v4 \t Run: 5/5 | Score: -5\n",
      "A2CAgent_5c Agent's High Score on SpaceInvaders-v4 Environment in 5 runs: 0 \n"
     ]
    }
   ],
   "source": [
    "a2c_agent_2c.test_agent(test_runs)\n",
    "a2c_agent_3c.test_agent(test_runs)\n",
    "a2c_agent_5c.test_agent(test_runs)"
   ]
  },
  {
   "cell_type": "code",
   "execution_count": 72,
   "metadata": {},
   "outputs": [
    {
     "data": {
      "image/png": "[encoded data removed]",
      "text/plain": [
       "<Figure size 432x288 with 1 Axes>"
      ]
     },
     "metadata": {
      "needs_background": "light"
     },
     "output_type": "display_data"
    }
   ],
   "source": [
    "plot_graph(\"episodes\", \"rewards\", a2c_agent_2c.hist_rewards, a2c_agent_2c.agent_name, takeMean=True)\n"
   ]
  },
  {
   "cell_type": "code",
   "execution_count": 73,
   "metadata": {},
   "outputs": [
    {
     "data": {
      "image/png": "[encoded data removed]",
      "text/plain": [
       "<Figure size 432x288 with 1 Axes>"
      ]
     },
     "metadata": {
      "needs_background": "light"
     },
     "output_type": "display_data"
    }
   ],
   "source": [
    "plot_graph(\"episodes\", \"rewards\", a2c_agent_3c.hist_rewards, a2c_agent_3c.agent_name, takeMean=True)\n"
   ]
  },
  {
   "cell_type": "code",
   "execution_count": 74,
   "metadata": {},
   "outputs": [
    {
     "data": {
      "image/png": "[encoded data removed]",
      "text/plain": [
       "<Figure size 432x288 with 1 Axes>"
      ]
     },
     "metadata": {
      "needs_background": "light"
     },
     "output_type": "display_data"
    }
   ],
   "source": [
    "plot_graph(\"episodes\", \"rewards\", a2c_agent_5c.hist_rewards, a2c_agent_5c.agent_name, takeMean=True)\n"
   ]
  },
  {
   "cell_type": "markdown",
   "metadata": {},
   "source": [
    "### Run on Reinforce Agents"
   ]
  },
  {
   "cell_type": "code",
   "execution_count": 119,
   "metadata": {},
   "outputs": [],
   "source": [
    "total_episodes = 10000\n",
    "score_limit = 230"
   ]
  },
  {
   "cell_type": "code",
   "execution_count": 120,
   "metadata": {},
   "outputs": [
    {
     "name": "stderr",
     "output_type": "stream",
     "text": [
      "/Users/utkarsh/opt/anaconda3/lib/python3.7/site-packages/gym/logger.py:30: UserWarning: \u001b[33mWARN: Box bound precision lowered by casting to float32\u001b[0m\n",
      "  warnings.warn(colorize('%s: %s'%('WARN', msg % args), 'yellow'))\n"
     ]
    }
   ],
   "source": [
    "env = Environment(env_name=env_name)\n",
    "reinforce_agent_2c = ReinforceAgent_2c(env_name, env, score_limit)\n",
    "reinforce_agent_3c = ReinforceAgent_3c(env_name, env, score_limit)\n",
    "reinforce_agent_5c = ReinforceAgent_5c(env_name, env, score_limit)"
   ]
  },
  {
   "cell_type": "code",
   "execution_count": 121,
   "metadata": {},
   "outputs": [
    {
     "name": "stdout",
     "output_type": "stream",
     "text": [
      "Agent: ReinforceAgent_2c \t Environment: SpaceInvaders-v4 \t Episode: 8/10000 | Episode Reward: 350\n",
      "ReinforceAgent_2c Agent Training ended at episode 8 for SpaceInvaders-v4 environment as agent performed best in last 10 runs\n",
      "Agent: ReinforceAgent_3c \t Environment: SpaceInvaders-v4 \t Episode: 1/10000 | Episode Reward: 205\n",
      "ReinforceAgent_3c Agent Training ended at episode 1 for SpaceInvaders-v4 environment as agent performed best in last 10 runs\n",
      "Agent: ReinforceAgent_5c \t Environment: SpaceInvaders-v4 \t Episode: 20/10000 | Episode Reward: 485\n",
      "ReinforceAgent_5c Agent Training ended at episode 20 for SpaceInvaders-v4 environment as agent performed best in last 10 runs\n"
     ]
    }
   ],
   "source": [
    "reinforce_agent_2c.train_agent(total_episodes)\n",
    "reinforce_agent_3c.train_agent(total_episodes)\n",
    "reinforce_agent_5c.train_agent(total_episodes)"
   ]
  },
  {
   "cell_type": "code",
   "execution_count": 122,
   "metadata": {},
   "outputs": [
    {
     "name": "stdout",
     "output_type": "stream",
     "text": [
      "Agent: ReinforceAgent_2c \t Environment: SpaceInvaders-v4 \t Run: 5/5 | Score: 205\n",
      "ReinforceAgent_2c Agent's High Score on SpaceInvaders-v4 Environment in 5 runs: 280 \n",
      "Agent: ReinforceAgent_3c \t Environment: SpaceInvaders-v4 \t Run: 5/5 | Score: 115\n",
      "ReinforceAgent_3c Agent's High Score on SpaceInvaders-v4 Environment in 5 runs: 180 \n",
      "Agent: ReinforceAgent_5c \t Environment: SpaceInvaders-v4 \t Run: 5/5 | Score: 100\n",
      "ReinforceAgent_5c Agent's High Score on SpaceInvaders-v4 Environment in 5 runs: 240 \n"
     ]
    }
   ],
   "source": [
    "reinforce_agent_2c.test_agent(test_runs)\n",
    "reinforce_agent_3c.test_agent(test_runs)\n",
    "reinforce_agent_5c.test_agent(test_runs)"
   ]
  },
  {
   "cell_type": "code",
   "execution_count": 126,
   "metadata": {},
   "outputs": [
    {
     "data": {
      "image/png": "[encoded data removed]",
      "text/plain": [
       "<Figure size 432x288 with 1 Axes>"
      ]
     },
     "metadata": {
      "needs_background": "light"
     },
     "output_type": "display_data"
    }
   ],
   "source": [
    "plot_graph(\"episodes\", \"rewards\", reinforce_agent_2c.hist_rewards, reinforce_agent_2c.agent_name, takeMean=True)\n"
   ]
  },
  {
   "cell_type": "code",
   "execution_count": 127,
   "metadata": {},
   "outputs": [
    {
     "data": {
      "image/png": "[encoded data removed]",
      "text/plain": [
       "<Figure size 432x288 with 1 Axes>"
      ]
     },
     "metadata": {
      "needs_background": "light"
     },
     "output_type": "display_data"
    }
   ],
   "source": [
    "plot_graph(\"episodes\", \"rewards\", reinforce_agent_3c.hist_rewards, reinforce_agent_3c.agent_name, takeMean=True)\n"
   ]
  },
  {
   "cell_type": "code",
   "execution_count": 125,
   "metadata": {},
   "outputs": [
    {
     "data": {
      "image/png": "[encoded data removed]",
      "text/plain": [
       "<Figure size 432x288 with 1 Axes>"
      ]
     },
     "metadata": {
      "needs_background": "light"
     },
     "output_type": "display_data"
    }
   ],
   "source": [
    "plot_graph(\"episodes\", \"rewards\", reinforce_agent_5c.hist_rewards, reinforce_agent_5c.agent_name, takeMean=True)\n"
   ]
  }
 ],
 "metadata": {
  "kernelspec": {
   "display_name": "Python 3",
   "language": "python",
   "name": "python3"
  },
  "language_info": {
   "codemirror_mode": {
    "name": "ipython",
    "version": 3
   },
   "file_extension": ".py",
   "mimetype": "text/x-python",
   "name": "python",
   "nbconvert_exporter": "python",
   "pygments_lexer": "ipython3",
   "version": "3.7.4"
  }
 },
 "nbformat": 4,
 "nbformat_minor": 4
}
